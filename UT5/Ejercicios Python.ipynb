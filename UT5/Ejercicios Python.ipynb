{
 "cells": [
  {
   "cell_type": "markdown",
   "metadata": {},
   "source": [
    "https://aprendeconalf.es/docencia/python/ejercicios/tipos-datos/"
   ]
  },
  {
   "cell_type": "markdown",
   "metadata": {},
   "source": [
    "#### Ejercicio 1:\n",
    "Escribir un programa que muestre por pantalla la cadena `¡Hola Mundo!`."
   ]
  },
  {
   "cell_type": "code",
   "execution_count": 43,
   "metadata": {},
   "outputs": [
    {
     "name": "stdout",
     "output_type": "stream",
     "text": [
      "¡Hola Mundo!\n"
     ]
    }
   ],
   "source": [
    "print(\"¡Hola Mundo!\")"
   ]
  },
  {
   "cell_type": "markdown",
   "metadata": {},
   "source": [
    "#### Ejercicio 2:\n",
    "Escribir un programa que almacene la cadena `¡Hola Mundo!` en una variable y luego muestre por pantalla el contenido de la variable."
   ]
  },
  {
   "cell_type": "code",
   "execution_count": 44,
   "metadata": {},
   "outputs": [
    {
     "name": "stdout",
     "output_type": "stream",
     "text": [
      "¡Hola Mundo!\n"
     ]
    }
   ],
   "source": [
    "miVariable = \"¡Hola Mundo!\"\n",
    "print(miVariable)"
   ]
  },
  {
   "cell_type": "markdown",
   "metadata": {},
   "source": [
    "#### Ejercicio 3:\n",
    "Escribir un programa que pregunte el nombre del usuario en la consola y después de que el usuario lo introduzca muestre por pantalla la cadena ¡Hola <`nombre`>!, donde <`nombre`> es el nombre que el usuario haya introducido."
   ]
  },
  {
   "cell_type": "code",
   "execution_count": 45,
   "metadata": {},
   "outputs": [],
   "source": [
    "nombre = input(\"¿Cuál es tu nombre?\")\n",
    "print(\"Hola \" + nombre + \".\")"
   ]
  },
  {
   "cell_type": "markdown",
   "metadata": {},
   "source": [
    "#### Ejercicio 4:\n",
    "Escribir un programa que muestre por pantalla el resultado de la siguiente operación aritmética ((2+3)/(2*5))**2 "
   ]
  },
  {
   "cell_type": "code",
   "execution_count": null,
   "metadata": {},
   "outputs": [
    {
     "name": "stdout",
     "output_type": "stream",
     "text": [
      "0.25\n"
     ]
    }
   ],
   "source": [
    "print(((2+3)/(2*5))**2)"
   ]
  },
  {
   "cell_type": "markdown",
   "metadata": {},
   "source": [
    "#### Ejercicio 5:\n",
    "Escribir un programa que pregunte al usuario por el número de horas trabajadas y el coste por hora. Después debe mostrar por pantalla la paga que le corresponde."
   ]
  },
  {
   "cell_type": "code",
   "execution_count": null,
   "metadata": {},
   "outputs": [
    {
     "name": "stdout",
     "output_type": "stream",
     "text": [
      "Debes de cobrar: 160€.\n"
     ]
    }
   ],
   "source": [
    "horas = int(input(\"¿Cuántas horas has trabajado?\"))\n",
    "cph = int(input(\"¿Cuál es el coste por hora?\"))\n",
    "print (\"Debes de cobrar: \" + str(horas*cph) + \"€.\")"
   ]
  },
  {
   "cell_type": "markdown",
   "metadata": {},
   "source": [
    "#### Ejercicio 6:\n",
    "Escribir un programa que lea un entero positivo **x**, introducido por el usuario y después muestre en pantalla la suma de todos los enteros desde 1 hasta **x**:"
   ]
  },
  {
   "cell_type": "code",
   "execution_count": null,
   "metadata": {},
   "outputs": [],
   "source": [
    "def sumatoria(x):\n",
    "    if x == 0:\n",
    "        return 0\n",
    "    else:\n",
    "        return x + sumatoria(x-1)\n",
    "    \n",
    "\"\"\"\n",
    "def sumatoria(x):\n",
    "    return 0 if x == 0 else x + sumatoria(x-1)\n",
    "\"\"\""
   ]
  },
  {
   "cell_type": "code",
   "execution_count": null,
   "metadata": {},
   "outputs": [
    {
     "data": {
      "text/plain": [
       "15"
      ]
     },
     "execution_count": 29,
     "metadata": {},
     "output_type": "execute_result"
    }
   ],
   "source": [
    "sumatoria(5)"
   ]
  },
  {
   "cell_type": "markdown",
   "metadata": {},
   "source": [
    "#### Ejercicio 7:\n",
    "Escribir un programa que pida al usuario su peso (en kg) y estatura (en metros), calcule el índice de masa corporal y lo almacene en una variable, y muestre por pantalla la frase `Tu índice de masa corporal es `<`imc`> donde <`imc`> es el índice de masa corporal calculado como peso dividido entre altura al cuadrado redondeado con dos decimales."
   ]
  },
  {
   "cell_type": "code",
   "execution_count": null,
   "metadata": {},
   "outputs": [
    {
     "name": "stdout",
     "output_type": "stream",
     "text": [
      "Tu IMC es: 21.98\n"
     ]
    }
   ],
   "source": [
    "peso = float(input(\"¿Cuánto pesas?\"))\n",
    "estatura = float(input(\"¿Cuánto mides?\"))\n",
    "\n",
    "print(\"Tu IMC es: \" + str(round(peso/(estatura**2),2)))"
   ]
  },
  {
   "cell_type": "markdown",
   "metadata": {},
   "source": [
    "#### Ejercicio 8:\n",
    "Escribir un programa que pida al usuario dos números enteros y muestre por pantalla la <`n`> entre <`m`> da un cociente <`c`> y un resto <`r`> donde <`n`> y <`m`> son los números introducidos por el usuario, y <`c`> y <`r`> son el cociente y el resto de la división entera respectivamente."
   ]
  },
  {
   "cell_type": "code",
   "execution_count": null,
   "metadata": {},
   "outputs": [
    {
     "name": "stdout",
     "output_type": "stream",
     "text": [
      "Cociente: 2\n",
      "Resto: 1\n"
     ]
    }
   ],
   "source": [
    "n = 5\n",
    "m = 2\n",
    "\n",
    "c = 5//2\n",
    "r = 5%2\n",
    "\n",
    "print(\"Cociente: \" + str(c))\n",
    "print(\"Resto: \" + str(r))"
   ]
  },
  {
   "cell_type": "markdown",
   "metadata": {},
   "source": [
    "#### Ejercicio 9:\n",
    "Escribir un programa que pregunte al usuario su edad y muestre por pantalla si es mayor de edad o no."
   ]
  },
  {
   "cell_type": "code",
   "execution_count": null,
   "metadata": {},
   "outputs": [
    {
     "name": "stdout",
     "output_type": "stream",
     "text": [
      "Todavía eres un primaveras\n"
     ]
    }
   ],
   "source": [
    "edad=17\n",
    "\n",
    "if edad >= 18:\n",
    "    print(\"Mayor de edad\")\n",
    "else:\n",
    "    print(\"Todavía eres un primaveras\")"
   ]
  },
  {
   "cell_type": "markdown",
   "metadata": {
    "vscode": {
     "languageId": "powershell"
    }
   },
   "source": [
    "#### Ejercicio 10:\n",
    "Escribir un programa que pida al usuario un número entero y muestre por pantalla si es par o impar."
   ]
  },
  {
   "cell_type": "code",
   "execution_count": null,
   "metadata": {},
   "outputs": [
    {
     "name": "stdout",
     "output_type": "stream",
     "text": [
      "Par\n"
     ]
    }
   ],
   "source": [
    "try:\n",
    "    n = int(input(\"Escribe un número\"))\n",
    "\n",
    "    def parOimpar(num):\n",
    "        return \"Par\" if (num%2 == 0) else \"Impar\"\n",
    "\n",
    "    print(parOimpar(n))\n",
    "except ValueError:\n",
    "    print(\"Introduce un número\")"
   ]
  },
  {
   "cell_type": "markdown",
   "metadata": {},
   "source": [
    "#### Ejercicio 11:\n",
    "Los alumnos de un curso se han dividido en dos grupos A y B de acuerdo al sexo y el nombre. El grupo A esta formado por las mujeres con un nombre anterior a la M y los hombres con un nombre posterior a la N y el grupo B por el resto. Escribir un programa que pregunte al usuario su nombre y sexo, y muestre por pantalla el grupo que le corresponde."
   ]
  },
  {
   "cell_type": "code",
   "execution_count": 43,
   "metadata": {},
   "outputs": [
    {
     "name": "stdout",
     "output_type": "stream",
     "text": [
      "Joshua\n",
      "Está en el grupo B\n",
      "María\n",
      "Está en el grupo B\n",
      "Abián\n",
      "Está en el grupo B\n",
      "Alba\n",
      "Está en el grupo A\n",
      "Nicolás\n",
      "Está en el grupo A\n"
     ]
    }
   ],
   "source": [
    "import string\n",
    "\n",
    "class persona:\n",
    "    def __init__(self, nombre:str, edad:int, sexo:str):\n",
    "        self.nombre = nombre\n",
    "        self.edad = edad\n",
    "        self.sexo = sexo\n",
    "\n",
    "    def __repr__(self) -> str:\n",
    "        return \"Nombre: \" + self.nombre + \"\\nEdad: \" + str(self.edad) + \"\\nSexo: \" + self.sexo\n",
    "\n",
    "\n",
    "personas=[persona(\"Joshua\", 33, \"Hombre\"),\n",
    "          persona(\"María\", 50, \"Mujer\"),\n",
    "          persona(\"Abián\", 18, \"Hombre\"),\n",
    "          persona(\"Alba\", 14, \"Mujer\"),\n",
    "          persona(\"Nicolás\", 22, \"Hombre\")]\n",
    "\n",
    "for p in personas:\n",
    "    print(p.nombre)\n",
    "    if p.sexo == \"Mujer\":\n",
    "        if (str.lower(p.nombre[0]) in string.ascii_letters[:12]):\n",
    "            print(\"Está en el grupo A\")\n",
    "        else:\n",
    "            print(\"Está en el grupo B\")\n",
    "    else:\n",
    "        if (str.lower(p.nombre[0]) in string.ascii_letters[13:26]):\n",
    "            print(\"Está en el grupo A\")\n",
    "        else:\n",
    "            print(\"Está en el grupo B\")"
   ]
  },
  {
   "cell_type": "markdown",
   "metadata": {},
   "source": [
    "#### Ejercicio 12:\n",
    "\n",
    "Crea una función llamada `sumaPares()` a la que le pases un nº > 0, y que sume todos los nº pares entre 0 y ese número (incluido).\n",
    "\n",
    "Ejemplo `sumaPares(8)` -> 20\n",
    "\n"
   ]
  },
  {
   "cell_type": "code",
   "execution_count": 19,
   "metadata": {},
   "outputs": [
    {
     "data": {
      "text/plain": [
       "20"
      ]
     },
     "execution_count": 19,
     "metadata": {},
     "output_type": "execute_result"
    }
   ],
   "source": [
    "def sumaPares(num:int):\n",
    "    suma = 0\n",
    "    for i in range(0, num+1,2):\n",
    "        suma = suma + i\n",
    "    return suma\n",
    "\n",
    "sumaPares(8)"
   ]
  },
  {
   "cell_type": "markdown",
   "metadata": {},
   "source": [
    "Y con recursividad:"
   ]
  },
  {
   "cell_type": "code",
   "execution_count": 32,
   "metadata": {},
   "outputs": [
    {
     "data": {
      "text/plain": [
       "30"
      ]
     },
     "execution_count": 32,
     "metadata": {},
     "output_type": "execute_result"
    }
   ],
   "source": [
    "def sumaParesRecursivo(num:int):\n",
    "    return 0 if num <= 0 else sumaParesRecursivo(num-2) + num if esPar(num) else sumaParesRecursivo(num-1)\n",
    "\n",
    "def esPar(num):\n",
    "    return True if (num %2 ==0) else False\n",
    "\n",
    "sumaParesRecursivo(11)"
   ]
  },
  {
   "cell_type": "markdown",
   "metadata": {},
   "source": [
    "#### Ejercicio 13:\n",
    "Escribir un programa que almacene las asignaturas de un curso (por ejemplo SGE, AD, Móviles...) en una lista y la muestre por pantalla."
   ]
  },
  {
   "cell_type": "code",
   "execution_count": null,
   "metadata": {},
   "outputs": [
    {
     "name": "stdout",
     "output_type": "stream",
     "text": [
      "['SGE', 'AD', 'Móviles']\n"
     ]
    }
   ],
   "source": [
    "módulos = [\"SGE\", \"AD\", \"Móviles\"]\n",
    "\n",
    "print(módulos)"
   ]
  },
  {
   "cell_type": "markdown",
   "metadata": {},
   "source": [
    "#### Ejercicio 14\n",
    "Escribir un programa que almacene en una lista los siguientes precios, 50, 75, 46, 22, 80, 65, 8, y muestre por pantalla el menor y el mayor de los precios."
   ]
  },
  {
   "cell_type": "code",
   "execution_count": 64,
   "metadata": {},
   "outputs": [
    {
     "name": "stdout",
     "output_type": "stream",
     "text": [
      "El más pequeño: 8\n",
      "El más grande: 80\n"
     ]
    }
   ],
   "source": [
    "lista = [50, 75, 46, 22, 80, 65, 8]\n",
    "\n",
    "def menorMayor (lista):\n",
    "    print (\"El más pequeño: \" + str(sorted(lista)[0]))\n",
    "    print (\"El más grande: \" + str(sorted(lista)[-1]))\n",
    "\n",
    "menorMayor(lista)"
   ]
  },
  {
   "cell_type": "markdown",
   "metadata": {},
   "source": [
    "#### Ejercicio 15:\n",
    "Dada una lista `[50, \"Manzanas\", 46, \"Peras\", 80, \"Naranjas\", 8]`, imprimir sólo los elementos que sean `str`"
   ]
  },
  {
   "cell_type": "code",
   "execution_count": 68,
   "metadata": {},
   "outputs": [
    {
     "name": "stdout",
     "output_type": "stream",
     "text": [
      "Manzanas\n",
      "Peras\n",
      "Naranjas\n"
     ]
    }
   ],
   "source": [
    "lista = [50, \"Manzanas\", 46, \"Peras\", 80, \"Naranjas\", 8]\n",
    "\n",
    "for i in lista:\n",
    "    if type(i) == str:\n",
    "        print(i)"
   ]
  }
 ],
 "metadata": {
  "kernelspec": {
   "display_name": "Python 3",
   "language": "python",
   "name": "python3"
  },
  "language_info": {
   "codemirror_mode": {
    "name": "ipython",
    "version": 3
   },
   "file_extension": ".py",
   "mimetype": "text/x-python",
   "name": "python",
   "nbconvert_exporter": "python",
   "pygments_lexer": "ipython3",
   "version": "3.11.6"
  }
 },
 "nbformat": 4,
 "nbformat_minor": 2
}
